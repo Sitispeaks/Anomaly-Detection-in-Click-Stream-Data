{
 "cells": [
  {
   "cell_type": "markdown",
   "metadata": {},
   "source": [
    "## Objective :\n",
    "This project is made considering the Click Stream Data for the website provided. I have taken all factors into consideration. I have visualized the each feature of the data properly and considered only those features which are useful in making productions.\n",
    "The main motivation behind this project is to find the anomalies in the Click Stream Data. "
   ]
  },
  {
   "cell_type": "markdown",
   "metadata": {},
   "source": [
    "## Algorithms Implemented :\n",
    "* K-means clustering based anomaly detection  \n",
    "* Elliptic Envelope on each category in data  \n",
    "* Isolation Forest  \n",
    "* One Class SVM (Support Vector Machine)  \n",
    "* RNN (LSTM Neural Network)"
   ]
  },
  {
   "cell_type": "code",
   "execution_count": 1,
   "metadata": {},
   "outputs": [],
   "source": [
    "import pandas as pd\n",
    "import numpy as np\n",
    "import matplotlib.pyplot as plt\n",
    "from sklearn.decomposition import PCA\n",
    "from sklearn.preprocessing import StandardScaler\n",
    "from mpl_toolkits.mplot3d import Axes3D\n",
    "from sklearn.cluster import KMeans\n",
    "from functions import *\n",
    "from sklearn.covariance import EllipticEnvelope\n",
    "from sklearn.ensemble import IsolationForest\n",
    "import random\n",
    "%matplotlib inline"
   ]
  },
  {
   "cell_type": "markdown",
   "metadata": {},
   "source": [
    "## Data Loading : \n",
    "Data is taken from the csv file. It is real time data taken from the website and given."
   ]
  },
  {
   "cell_type": "code",
   "execution_count": 2,
   "metadata": {},
   "outputs": [
    {
     "data": {
      "text/html": [
       "<div>\n",
       "<style scoped>\n",
       "    .dataframe tbody tr th:only-of-type {\n",
       "        vertical-align: middle;\n",
       "    }\n",
       "\n",
       "    .dataframe tbody tr th {\n",
       "        vertical-align: top;\n",
       "    }\n",
       "\n",
       "    .dataframe thead th {\n",
       "        text-align: right;\n",
       "    }\n",
       "</style>\n",
       "<table border=\"1\" class=\"dataframe\">\n",
       "  <thead>\n",
       "    <tr style=\"text-align: right;\">\n",
       "      <th></th>\n",
       "      <th>height</th>\n",
       "      <th>width</th>\n",
       "      <th>time</th>\n",
       "      <th>type</th>\n",
       "      <th>scrollX</th>\n",
       "      <th>scrollY</th>\n",
       "    </tr>\n",
       "  </thead>\n",
       "  <tbody>\n",
       "    <tr>\n",
       "      <th>0</th>\n",
       "      <td>810</td>\n",
       "      <td>1535</td>\n",
       "      <td>824.55</td>\n",
       "      <td>mouseover</td>\n",
       "      <td>0</td>\n",
       "      <td>0</td>\n",
       "    </tr>\n",
       "    <tr>\n",
       "      <th>1</th>\n",
       "      <td>810</td>\n",
       "      <td>1535</td>\n",
       "      <td>824.55</td>\n",
       "      <td>mousemove</td>\n",
       "      <td>0</td>\n",
       "      <td>0</td>\n",
       "    </tr>\n",
       "    <tr>\n",
       "      <th>2</th>\n",
       "      <td>810</td>\n",
       "      <td>1535</td>\n",
       "      <td>837.55</td>\n",
       "      <td>mousemove</td>\n",
       "      <td>0</td>\n",
       "      <td>0</td>\n",
       "    </tr>\n",
       "    <tr>\n",
       "      <th>3</th>\n",
       "      <td>810</td>\n",
       "      <td>1535</td>\n",
       "      <td>850.55</td>\n",
       "      <td>mousemove</td>\n",
       "      <td>0</td>\n",
       "      <td>0</td>\n",
       "    </tr>\n",
       "    <tr>\n",
       "      <th>4</th>\n",
       "      <td>810</td>\n",
       "      <td>1535</td>\n",
       "      <td>862.55</td>\n",
       "      <td>mousemove</td>\n",
       "      <td>0</td>\n",
       "      <td>0</td>\n",
       "    </tr>\n",
       "  </tbody>\n",
       "</table>\n",
       "</div>"
      ],
      "text/plain": [
       "   height  width    time       type  scrollX  scrollY\n",
       "0     810   1535  824.55  mouseover        0        0\n",
       "1     810   1535  824.55  mousemove        0        0\n",
       "2     810   1535  837.55  mousemove        0        0\n",
       "3     810   1535  850.55  mousemove        0        0\n",
       "4     810   1535  862.55  mousemove        0        0"
      ]
     },
     "execution_count": 2,
     "metadata": {},
     "output_type": "execute_result"
    }
   ],
   "source": [
    "df_cluster = get_data()\n",
    "df_cluster.head()"
   ]
  },
  {
   "cell_type": "code",
   "execution_count": 3,
   "metadata": {},
   "outputs": [
    {
     "name": "stdout",
     "output_type": "stream",
     "text": [
      "['mouseover' 'mousemove' 'mouseout' 'scroll' 'mousedown' 'mouseup' 'click'\n",
      " 'focusin' 'focusout' 'dblclick' 'unload']\n"
     ]
    }
   ],
   "source": [
    "types = df_cluster['type'].unique()\n",
    "print(types)"
   ]
  },
  {
   "cell_type": "code",
   "execution_count": 4,
   "metadata": {},
   "outputs": [
    {
     "name": "stdout",
     "output_type": "stream",
     "text": [
      "{'mousedown': 10, 'dblclick': 15, 'mouseup': 11, 'click': 12, 'focusout': 14, 'mouseover': 6, 'mouseout': 8, 'mousemove': 7, 'focusin': 13, 'unload': 16, 'scroll': 9}\n"
     ]
    }
   ],
   "source": [
    "df_cluster = add_dummies(df_cluster,types)\n",
    "types_dict = {}\n",
    "for key in types:\n",
    "    types_dict[key] = df_cluster.columns.get_loc(key)\n",
    "print(types_dict)"
   ]
  },
  {
   "cell_type": "code",
   "execution_count": 5,
   "metadata": {},
   "outputs": [
    {
     "data": {
      "text/html": [
       "<div>\n",
       "<style scoped>\n",
       "    .dataframe tbody tr th:only-of-type {\n",
       "        vertical-align: middle;\n",
       "    }\n",
       "\n",
       "    .dataframe tbody tr th {\n",
       "        vertical-align: top;\n",
       "    }\n",
       "\n",
       "    .dataframe thead th {\n",
       "        text-align: right;\n",
       "    }\n",
       "</style>\n",
       "<table border=\"1\" class=\"dataframe\">\n",
       "  <thead>\n",
       "    <tr style=\"text-align: right;\">\n",
       "      <th></th>\n",
       "      <th>height</th>\n",
       "      <th>width</th>\n",
       "      <th>time</th>\n",
       "      <th>type</th>\n",
       "      <th>scrollX</th>\n",
       "      <th>scrollY</th>\n",
       "      <th>mouseover</th>\n",
       "      <th>mousemove</th>\n",
       "      <th>mouseout</th>\n",
       "      <th>scroll</th>\n",
       "      <th>mousedown</th>\n",
       "      <th>mouseup</th>\n",
       "      <th>click</th>\n",
       "      <th>focusin</th>\n",
       "      <th>focusout</th>\n",
       "      <th>dblclick</th>\n",
       "      <th>unload</th>\n",
       "    </tr>\n",
       "  </thead>\n",
       "  <tbody>\n",
       "    <tr>\n",
       "      <th>0</th>\n",
       "      <td>810</td>\n",
       "      <td>1535</td>\n",
       "      <td>824.55</td>\n",
       "      <td>mouseover</td>\n",
       "      <td>0</td>\n",
       "      <td>0</td>\n",
       "      <td>1</td>\n",
       "      <td>0</td>\n",
       "      <td>0</td>\n",
       "      <td>0</td>\n",
       "      <td>0</td>\n",
       "      <td>0</td>\n",
       "      <td>0</td>\n",
       "      <td>0</td>\n",
       "      <td>0</td>\n",
       "      <td>0</td>\n",
       "      <td>0</td>\n",
       "    </tr>\n",
       "    <tr>\n",
       "      <th>1</th>\n",
       "      <td>810</td>\n",
       "      <td>1535</td>\n",
       "      <td>824.55</td>\n",
       "      <td>mousemove</td>\n",
       "      <td>0</td>\n",
       "      <td>0</td>\n",
       "      <td>0</td>\n",
       "      <td>1</td>\n",
       "      <td>0</td>\n",
       "      <td>0</td>\n",
       "      <td>0</td>\n",
       "      <td>0</td>\n",
       "      <td>0</td>\n",
       "      <td>0</td>\n",
       "      <td>0</td>\n",
       "      <td>0</td>\n",
       "      <td>0</td>\n",
       "    </tr>\n",
       "    <tr>\n",
       "      <th>2</th>\n",
       "      <td>810</td>\n",
       "      <td>1535</td>\n",
       "      <td>837.55</td>\n",
       "      <td>mousemove</td>\n",
       "      <td>0</td>\n",
       "      <td>0</td>\n",
       "      <td>0</td>\n",
       "      <td>1</td>\n",
       "      <td>0</td>\n",
       "      <td>0</td>\n",
       "      <td>0</td>\n",
       "      <td>0</td>\n",
       "      <td>0</td>\n",
       "      <td>0</td>\n",
       "      <td>0</td>\n",
       "      <td>0</td>\n",
       "      <td>0</td>\n",
       "    </tr>\n",
       "    <tr>\n",
       "      <th>3</th>\n",
       "      <td>810</td>\n",
       "      <td>1535</td>\n",
       "      <td>850.55</td>\n",
       "      <td>mousemove</td>\n",
       "      <td>0</td>\n",
       "      <td>0</td>\n",
       "      <td>0</td>\n",
       "      <td>1</td>\n",
       "      <td>0</td>\n",
       "      <td>0</td>\n",
       "      <td>0</td>\n",
       "      <td>0</td>\n",
       "      <td>0</td>\n",
       "      <td>0</td>\n",
       "      <td>0</td>\n",
       "      <td>0</td>\n",
       "      <td>0</td>\n",
       "    </tr>\n",
       "    <tr>\n",
       "      <th>4</th>\n",
       "      <td>810</td>\n",
       "      <td>1535</td>\n",
       "      <td>862.55</td>\n",
       "      <td>mousemove</td>\n",
       "      <td>0</td>\n",
       "      <td>0</td>\n",
       "      <td>0</td>\n",
       "      <td>1</td>\n",
       "      <td>0</td>\n",
       "      <td>0</td>\n",
       "      <td>0</td>\n",
       "      <td>0</td>\n",
       "      <td>0</td>\n",
       "      <td>0</td>\n",
       "      <td>0</td>\n",
       "      <td>0</td>\n",
       "      <td>0</td>\n",
       "    </tr>\n",
       "  </tbody>\n",
       "</table>\n",
       "</div>"
      ],
      "text/plain": [
       "   height  width    time       type  scrollX  scrollY  mouseover  mousemove  \\\n",
       "0     810   1535  824.55  mouseover        0        0          1          0   \n",
       "1     810   1535  824.55  mousemove        0        0          0          1   \n",
       "2     810   1535  837.55  mousemove        0        0          0          1   \n",
       "3     810   1535  850.55  mousemove        0        0          0          1   \n",
       "4     810   1535  862.55  mousemove        0        0          0          1   \n",
       "\n",
       "   mouseout  scroll  mousedown  mouseup  click  focusin  focusout  dblclick  \\\n",
       "0         0       0          0        0      0        0         0         0   \n",
       "1         0       0          0        0      0        0         0         0   \n",
       "2         0       0          0        0      0        0         0         0   \n",
       "3         0       0          0        0      0        0         0         0   \n",
       "4         0       0          0        0      0        0         0         0   \n",
       "\n",
       "   unload  \n",
       "0       0  \n",
       "1       0  \n",
       "2       0  \n",
       "3       0  \n",
       "4       0  "
      ]
     },
     "execution_count": 5,
     "metadata": {},
     "output_type": "execute_result"
    }
   ],
   "source": [
    "df_cluster = assign_dummies(df_cluster,types_dict)\n",
    "df_cluster.head()"
   ]
  },
  {
   "cell_type": "code",
   "execution_count": 6,
   "metadata": {},
   "outputs": [],
   "source": [
    "# Deleting unnecessary columns which are not important for predictions.\n",
    "df_cluster = remove_columns(df_cluster,['height','width','scrollX','type','unload'])"
   ]
  },
  {
   "cell_type": "code",
   "execution_count": 7,
   "metadata": {},
   "outputs": [
    {
     "data": {
      "text/html": [
       "<div>\n",
       "<style scoped>\n",
       "    .dataframe tbody tr th:only-of-type {\n",
       "        vertical-align: middle;\n",
       "    }\n",
       "\n",
       "    .dataframe tbody tr th {\n",
       "        vertical-align: top;\n",
       "    }\n",
       "\n",
       "    .dataframe thead th {\n",
       "        text-align: right;\n",
       "    }\n",
       "</style>\n",
       "<table border=\"1\" class=\"dataframe\">\n",
       "  <thead>\n",
       "    <tr style=\"text-align: right;\">\n",
       "      <th></th>\n",
       "      <th>time</th>\n",
       "      <th>scrollY</th>\n",
       "      <th>mouseover</th>\n",
       "      <th>mousemove</th>\n",
       "      <th>mouseout</th>\n",
       "      <th>scroll</th>\n",
       "      <th>mousedown</th>\n",
       "      <th>mouseup</th>\n",
       "      <th>click</th>\n",
       "      <th>focusin</th>\n",
       "      <th>focusout</th>\n",
       "      <th>dblclick</th>\n",
       "    </tr>\n",
       "  </thead>\n",
       "  <tbody>\n",
       "    <tr>\n",
       "      <th>count</th>\n",
       "      <td>2681.000000</td>\n",
       "      <td>2681.000000</td>\n",
       "      <td>2681.000000</td>\n",
       "      <td>2681.000000</td>\n",
       "      <td>2681.000000</td>\n",
       "      <td>2681.000000</td>\n",
       "      <td>2681.000000</td>\n",
       "      <td>2681.000000</td>\n",
       "      <td>2681.000000</td>\n",
       "      <td>2681.000000</td>\n",
       "      <td>2681.000000</td>\n",
       "      <td>2681.000000</td>\n",
       "    </tr>\n",
       "    <tr>\n",
       "      <th>mean</th>\n",
       "      <td>47366.367122</td>\n",
       "      <td>1521.928758</td>\n",
       "      <td>0.058187</td>\n",
       "      <td>0.386423</td>\n",
       "      <td>0.058560</td>\n",
       "      <td>0.470720</td>\n",
       "      <td>0.007460</td>\n",
       "      <td>0.007460</td>\n",
       "      <td>0.004476</td>\n",
       "      <td>0.002984</td>\n",
       "      <td>0.002238</td>\n",
       "      <td>0.000746</td>\n",
       "    </tr>\n",
       "    <tr>\n",
       "      <th>std</th>\n",
       "      <td>37667.370632</td>\n",
       "      <td>1147.213175</td>\n",
       "      <td>0.234141</td>\n",
       "      <td>0.487020</td>\n",
       "      <td>0.234844</td>\n",
       "      <td>0.499235</td>\n",
       "      <td>0.086064</td>\n",
       "      <td>0.086064</td>\n",
       "      <td>0.066765</td>\n",
       "      <td>0.054554</td>\n",
       "      <td>0.047263</td>\n",
       "      <td>0.027308</td>\n",
       "    </tr>\n",
       "    <tr>\n",
       "      <th>min</th>\n",
       "      <td>740.435000</td>\n",
       "      <td>0.000000</td>\n",
       "      <td>0.000000</td>\n",
       "      <td>0.000000</td>\n",
       "      <td>0.000000</td>\n",
       "      <td>0.000000</td>\n",
       "      <td>0.000000</td>\n",
       "      <td>0.000000</td>\n",
       "      <td>0.000000</td>\n",
       "      <td>0.000000</td>\n",
       "      <td>0.000000</td>\n",
       "      <td>0.000000</td>\n",
       "    </tr>\n",
       "    <tr>\n",
       "      <th>25%</th>\n",
       "      <td>11751.435000</td>\n",
       "      <td>810.000000</td>\n",
       "      <td>0.000000</td>\n",
       "      <td>0.000000</td>\n",
       "      <td>0.000000</td>\n",
       "      <td>0.000000</td>\n",
       "      <td>0.000000</td>\n",
       "      <td>0.000000</td>\n",
       "      <td>0.000000</td>\n",
       "      <td>0.000000</td>\n",
       "      <td>0.000000</td>\n",
       "      <td>0.000000</td>\n",
       "    </tr>\n",
       "    <tr>\n",
       "      <th>50%</th>\n",
       "      <td>37830.550000</td>\n",
       "      <td>1235.000000</td>\n",
       "      <td>0.000000</td>\n",
       "      <td>0.000000</td>\n",
       "      <td>0.000000</td>\n",
       "      <td>0.000000</td>\n",
       "      <td>0.000000</td>\n",
       "      <td>0.000000</td>\n",
       "      <td>0.000000</td>\n",
       "      <td>0.000000</td>\n",
       "      <td>0.000000</td>\n",
       "      <td>0.000000</td>\n",
       "    </tr>\n",
       "    <tr>\n",
       "      <th>75%</th>\n",
       "      <td>83595.435000</td>\n",
       "      <td>2361.000000</td>\n",
       "      <td>0.000000</td>\n",
       "      <td>1.000000</td>\n",
       "      <td>0.000000</td>\n",
       "      <td>1.000000</td>\n",
       "      <td>0.000000</td>\n",
       "      <td>0.000000</td>\n",
       "      <td>0.000000</td>\n",
       "      <td>0.000000</td>\n",
       "      <td>0.000000</td>\n",
       "      <td>0.000000</td>\n",
       "    </tr>\n",
       "    <tr>\n",
       "      <th>max</th>\n",
       "      <td>106672.515000</td>\n",
       "      <td>3740.000000</td>\n",
       "      <td>1.000000</td>\n",
       "      <td>1.000000</td>\n",
       "      <td>1.000000</td>\n",
       "      <td>1.000000</td>\n",
       "      <td>1.000000</td>\n",
       "      <td>1.000000</td>\n",
       "      <td>1.000000</td>\n",
       "      <td>1.000000</td>\n",
       "      <td>1.000000</td>\n",
       "      <td>1.000000</td>\n",
       "    </tr>\n",
       "  </tbody>\n",
       "</table>\n",
       "</div>"
      ],
      "text/plain": [
       "                time      scrollY    mouseover    mousemove     mouseout  \\\n",
       "count    2681.000000  2681.000000  2681.000000  2681.000000  2681.000000   \n",
       "mean    47366.367122  1521.928758     0.058187     0.386423     0.058560   \n",
       "std     37667.370632  1147.213175     0.234141     0.487020     0.234844   \n",
       "min       740.435000     0.000000     0.000000     0.000000     0.000000   \n",
       "25%     11751.435000   810.000000     0.000000     0.000000     0.000000   \n",
       "50%     37830.550000  1235.000000     0.000000     0.000000     0.000000   \n",
       "75%     83595.435000  2361.000000     0.000000     1.000000     0.000000   \n",
       "max    106672.515000  3740.000000     1.000000     1.000000     1.000000   \n",
       "\n",
       "            scroll    mousedown      mouseup        click      focusin  \\\n",
       "count  2681.000000  2681.000000  2681.000000  2681.000000  2681.000000   \n",
       "mean      0.470720     0.007460     0.007460     0.004476     0.002984   \n",
       "std       0.499235     0.086064     0.086064     0.066765     0.054554   \n",
       "min       0.000000     0.000000     0.000000     0.000000     0.000000   \n",
       "25%       0.000000     0.000000     0.000000     0.000000     0.000000   \n",
       "50%       0.000000     0.000000     0.000000     0.000000     0.000000   \n",
       "75%       1.000000     0.000000     0.000000     0.000000     0.000000   \n",
       "max       1.000000     1.000000     1.000000     1.000000     1.000000   \n",
       "\n",
       "          focusout     dblclick  \n",
       "count  2681.000000  2681.000000  \n",
       "mean      0.002238     0.000746  \n",
       "std       0.047263     0.027308  \n",
       "min       0.000000     0.000000  \n",
       "25%       0.000000     0.000000  \n",
       "50%       0.000000     0.000000  \n",
       "75%       0.000000     0.000000  \n",
       "max       1.000000     1.000000  "
      ]
     },
     "execution_count": 7,
     "metadata": {},
     "output_type": "execute_result"
    }
   ],
   "source": [
    "df_cluster.describe()"
   ]
  },
  {
   "cell_type": "code",
   "execution_count": 8,
   "metadata": {
    "scrolled": true
   },
   "outputs": [
    {
     "name": "stdout",
     "output_type": "stream",
     "text": [
      "106672.515 740.435\n",
      "3740.0 0.0\n"
     ]
    },
    {
     "data": {
      "text/html": [
       "<div>\n",
       "<style scoped>\n",
       "    .dataframe tbody tr th:only-of-type {\n",
       "        vertical-align: middle;\n",
       "    }\n",
       "\n",
       "    .dataframe tbody tr th {\n",
       "        vertical-align: top;\n",
       "    }\n",
       "\n",
       "    .dataframe thead th {\n",
       "        text-align: right;\n",
       "    }\n",
       "</style>\n",
       "<table border=\"1\" class=\"dataframe\">\n",
       "  <thead>\n",
       "    <tr style=\"text-align: right;\">\n",
       "      <th></th>\n",
       "      <th>time</th>\n",
       "      <th>scrollY</th>\n",
       "      <th>mouseover</th>\n",
       "      <th>mousemove</th>\n",
       "      <th>mouseout</th>\n",
       "      <th>scroll</th>\n",
       "      <th>mousedown</th>\n",
       "      <th>mouseup</th>\n",
       "      <th>click</th>\n",
       "      <th>focusin</th>\n",
       "      <th>focusout</th>\n",
       "      <th>dblclick</th>\n",
       "    </tr>\n",
       "  </thead>\n",
       "  <tbody>\n",
       "    <tr>\n",
       "      <th>0</th>\n",
       "      <td>0.000794</td>\n",
       "      <td>0.0</td>\n",
       "      <td>1.0</td>\n",
       "      <td>0.0</td>\n",
       "      <td>0.0</td>\n",
       "      <td>0.0</td>\n",
       "      <td>0.0</td>\n",
       "      <td>0.0</td>\n",
       "      <td>0.0</td>\n",
       "      <td>0.0</td>\n",
       "      <td>0.0</td>\n",
       "      <td>0.0</td>\n",
       "    </tr>\n",
       "    <tr>\n",
       "      <th>1</th>\n",
       "      <td>0.000794</td>\n",
       "      <td>0.0</td>\n",
       "      <td>0.0</td>\n",
       "      <td>1.0</td>\n",
       "      <td>0.0</td>\n",
       "      <td>0.0</td>\n",
       "      <td>0.0</td>\n",
       "      <td>0.0</td>\n",
       "      <td>0.0</td>\n",
       "      <td>0.0</td>\n",
       "      <td>0.0</td>\n",
       "      <td>0.0</td>\n",
       "    </tr>\n",
       "    <tr>\n",
       "      <th>2</th>\n",
       "      <td>0.000917</td>\n",
       "      <td>0.0</td>\n",
       "      <td>0.0</td>\n",
       "      <td>1.0</td>\n",
       "      <td>0.0</td>\n",
       "      <td>0.0</td>\n",
       "      <td>0.0</td>\n",
       "      <td>0.0</td>\n",
       "      <td>0.0</td>\n",
       "      <td>0.0</td>\n",
       "      <td>0.0</td>\n",
       "      <td>0.0</td>\n",
       "    </tr>\n",
       "    <tr>\n",
       "      <th>3</th>\n",
       "      <td>0.001039</td>\n",
       "      <td>0.0</td>\n",
       "      <td>0.0</td>\n",
       "      <td>1.0</td>\n",
       "      <td>0.0</td>\n",
       "      <td>0.0</td>\n",
       "      <td>0.0</td>\n",
       "      <td>0.0</td>\n",
       "      <td>0.0</td>\n",
       "      <td>0.0</td>\n",
       "      <td>0.0</td>\n",
       "      <td>0.0</td>\n",
       "    </tr>\n",
       "    <tr>\n",
       "      <th>4</th>\n",
       "      <td>0.001153</td>\n",
       "      <td>0.0</td>\n",
       "      <td>0.0</td>\n",
       "      <td>1.0</td>\n",
       "      <td>0.0</td>\n",
       "      <td>0.0</td>\n",
       "      <td>0.0</td>\n",
       "      <td>0.0</td>\n",
       "      <td>0.0</td>\n",
       "      <td>0.0</td>\n",
       "      <td>0.0</td>\n",
       "      <td>0.0</td>\n",
       "    </tr>\n",
       "  </tbody>\n",
       "</table>\n",
       "</div>"
      ],
      "text/plain": [
       "       time  scrollY  mouseover  mousemove  mouseout  scroll  mousedown  \\\n",
       "0  0.000794      0.0        1.0        0.0       0.0     0.0        0.0   \n",
       "1  0.000794      0.0        0.0        1.0       0.0     0.0        0.0   \n",
       "2  0.000917      0.0        0.0        1.0       0.0     0.0        0.0   \n",
       "3  0.001039      0.0        0.0        1.0       0.0     0.0        0.0   \n",
       "4  0.001153      0.0        0.0        1.0       0.0     0.0        0.0   \n",
       "\n",
       "   mouseup  click  focusin  focusout  dblclick  \n",
       "0      0.0    0.0      0.0       0.0       0.0  \n",
       "1      0.0    0.0      0.0       0.0       0.0  \n",
       "2      0.0    0.0      0.0       0.0       0.0  \n",
       "3      0.0    0.0      0.0       0.0       0.0  \n",
       "4      0.0    0.0      0.0       0.0       0.0  "
      ]
     },
     "execution_count": 8,
     "metadata": {},
     "output_type": "execute_result"
    }
   ],
   "source": [
    "X,df_cluster = scale_data(df_cluster)\n",
    "df_cluster.head()"
   ]
  },
  {
   "cell_type": "markdown",
   "metadata": {},
   "source": [
    "## Principle Component Analysis :\n",
    "Before applying clustering algorithm, we have to compress the data in lesser dimension such that it is easy to cluster the data in different different groups. Here our original data dimension is 12 columns. We are applying this dimensionality reduction to make the dimension as 4 columns"
   ]
  },
  {
   "cell_type": "code",
   "execution_count": 9,
   "metadata": {},
   "outputs": [],
   "source": [
    "pca = PCA(n_components=4)"
   ]
  },
  {
   "cell_type": "code",
   "execution_count": 10,
   "metadata": {},
   "outputs": [],
   "source": [
    "principleComponents = pca.fit_transform(X)"
   ]
  },
  {
   "cell_type": "code",
   "execution_count": 11,
   "metadata": {},
   "outputs": [],
   "source": [
    "principleDf = pd.DataFrame(data=principleComponents,columns=['PCA1','PCA2','PCA3','PCA4'])"
   ]
  },
  {
   "cell_type": "code",
   "execution_count": 12,
   "metadata": {
    "scrolled": true
   },
   "outputs": [
    {
     "name": "stdout",
     "output_type": "stream",
     "text": [
      "Retention of data in Each Component :  [ 0.51095446  0.15170327  0.12664289  0.10448304]\n",
      "Retention % of total data :  89.3783664117\n"
     ]
    }
   ],
   "source": [
    "principleDf.head()\n",
    "print(\"Retention of data in Each Component : \",pca.explained_variance_ratio_)\n",
    "print(\"Retention % of total data : \",sum(pca.explained_variance_ratio_)*100.0)"
   ]
  },
  {
   "cell_type": "markdown",
   "metadata": {},
   "source": [
    "## K-means clustering Algorithm :\n",
    "We are applying clustering algorithm on compressed data set. We are checking for different clusters so that we can visualize how the score for clusters varies on each k value in the algorithm"
   ]
  },
  {
   "cell_type": "code",
   "execution_count": 13,
   "metadata": {},
   "outputs": [
    {
     "data": {
      "image/png": "[encoded data removed]",
      "text/plain": [
       "<matplotlib.figure.Figure at 0x1f8e38c8518>"
      ]
     },
     "metadata": {},
     "output_type": "display_data"
    }
   ],
   "source": [
    "n_cluster = range(1, 20)\n",
    "kmeans = [KMeans(n_clusters=i).fit(principleDf) for i in n_cluster]\n",
    "scores = [kmeans[i].score(principleDf) for i in range(len(kmeans))]\n",
    "fig, ax = plt.subplots()\n",
    "ax.plot(n_cluster, scores)\n",
    "plt.xlabel('Number of Clusters')\n",
    "plt.ylabel('Scores for K-means')\n",
    "plt.show()"
   ]
  },
  {
   "cell_type": "code",
   "execution_count": 15,
   "metadata": {},
   "outputs": [
    {
     "data": {
      "text/plain": [
       "4     445\n",
       "1     413\n",
       "9     295\n",
       "10    277\n",
       "0     277\n",
       "3     248\n",
       "5     178\n",
       "8     165\n",
       "2     152\n",
       "7     148\n",
       "6      83\n",
       "Name: cluster, dtype: int64"
      ]
     },
     "execution_count": 15,
     "metadata": {},
     "output_type": "execute_result"
    }
   ],
   "source": [
    "df_cluster['cluster'] = kmeans[10].predict(principleDf)\n",
    "df_cluster['PCA1'] = principleDf.iloc[:,0]\n",
    "df_cluster['PCA2'] = principleDf.iloc[:,1]\n",
    "df_cluster['PCA3'] = principleDf.iloc[:,2]\n",
    "df_cluster['PCA4'] = principleDf.iloc[:,3]\n",
    "df_cluster['cluster'].value_counts()"
   ]
  },
  {
   "cell_type": "code",
   "execution_count": 21,
   "metadata": {},
   "outputs": [
    {
     "name": "stderr",
     "output_type": "stream",
     "text": [
      "C:\\Users\\Ashutosh\\Desktop\\Machine Learning Eckvation\\Sample ML\\sessions\\functions.py:22: FutureWarning: set_value is deprecated and will be removed in a future release. Please use .at[] or .iat[] accessors instead\n",
      "  distance.set_value(i, np.linalg.norm(Xa-Xb))\n"
     ]
    }
   ],
   "source": [
    "outliers_fraction = 0.01\n",
    "distance = getDistanceByPoint(principleDf, kmeans[10])\n",
    "number_of_outliers = int(outliers_fraction*len(distance))\n",
    "threshold = distance.nlargest(number_of_outliers).min()\n",
    "# anomaly21 contain the anomaly result of method 2.1 Cluster (0:normal, 1:anomaly) \n",
    "df_cluster['anomaly'] = (distance >= threshold).astype(int)"
   ]
  },
  {
   "cell_type": "code",
   "execution_count": 22,
   "metadata": {},
   "outputs": [
    {
     "data": {
      "text/plain": [
       "0    2655\n",
       "1      26\n",
       "Name: anomaly, dtype: int64"
      ]
     },
     "execution_count": 22,
     "metadata": {},
     "output_type": "execute_result"
    }
   ],
   "source": [
    "df_cluster['anomaly'].value_counts()"
   ]
  },
  {
   "cell_type": "code",
   "execution_count": 61,
   "metadata": {},
   "outputs": [
    {
     "data": {
      "image/png": "[encoded data removed]",
      "text/plain": [
       "<matplotlib.figure.Figure at 0x1f8f30c78d0>"
      ]
     },
     "metadata": {},
     "output_type": "display_data"
    }
   ],
   "source": [
    "fig, ax = plt.subplots()\n",
    "\n",
    "a = df_cluster.loc[df_cluster['anomaly'] == 1, ('time', 'scrollY')] #anomaly\n",
    "\n",
    "ax.plot(df_cluster['time'], df_cluster['scrollY'], color='blue')\n",
    "ax.scatter(a['time'],a['scrollY'], color='red')\n",
    "plt.show()"
   ]
  },
  {
   "cell_type": "code",
   "execution_count": 24,
   "metadata": {},
   "outputs": [
    {
     "data": {
      "image/png": "[encoded data removed]",
      "text/plain": [
       "<matplotlib.figure.Figure at 0x1f8e7079da0>"
      ]
     },
     "metadata": {},
     "output_type": "display_data"
    }
   ],
   "source": [
    "a = df_cluster.loc[df_cluster['anomaly'] == 0, 'time']\n",
    "b = df_cluster.loc[df_cluster['anomaly'] == 1, 'time']\n",
    "\n",
    "fig, axs = plt.subplots()\n",
    "axs.hist([a,b], bins=32, stacked=True, color=['blue', 'red'], label=['normal', 'anomaly'])\n",
    "plt.legend()\n",
    "plt.show()"
   ]
  },
  {
   "cell_type": "markdown",
   "metadata": {},
   "source": [
    "## Elliptic Envelope on Categories : \n",
    "We have 11 types of categories in our data like mouseover, mouseout, focusin, focusout etc. One or more of the given category may contribute to anomalies. This Algorithm is finding anomalies with respect to different categories."
   ]
  },
  {
   "cell_type": "code",
   "execution_count": 25,
   "metadata": {},
   "outputs": [
    {
     "data": {
      "text/plain": [
       "(2681, 6)"
      ]
     },
     "execution_count": 25,
     "metadata": {},
     "output_type": "execute_result"
    }
   ],
   "source": [
    "df_ee = get_data()\n",
    "df_ee.shape"
   ]
  },
  {
   "cell_type": "markdown",
   "metadata": {},
   "source": [
    "##### All categorical anomalies depend upon two features, time and scrollY."
   ]
  },
  {
   "cell_type": "code",
   "execution_count": 27,
   "metadata": {},
   "outputs": [],
   "source": [
    "df_class0 = df_ee.loc[df_ee['type']=='mouseover',['time','scrollY']]\n",
    "df_class1 = df_ee.loc[df_ee['type']=='mousemove',['time','scrollY']]\n",
    "df_class2 = df_ee.loc[df_ee['type']=='mouseout',['time','scrollY']]\n",
    "df_class3 = df_ee.loc[df_ee['type']=='scroll',['time','scrollY']]\n",
    "df_class4 = df_ee.loc[df_ee['type']=='mousedown',['time','scrollY']]\n",
    "df_class5 = df_ee.loc[df_ee['type']=='mouseup',['time','scrollY']]\n",
    "df_class6 = df_ee.loc[df_ee['type']=='click',['time','scrollY']]\n",
    "df_class7 = df_ee.loc[df_ee['type']=='focusin',['time','scrollY']]\n",
    "df_class8 = df_ee.loc[df_ee['type']=='focusout',['time','scrollY']]\n",
    "df_class9 = df_ee.loc[df_ee['type']=='dblclick',['time','scrollY']]\n",
    "df_class10 = df_ee.loc[df_ee['type']=='unload',['time','scrollY']]"
   ]
  },
  {
   "cell_type": "markdown",
   "metadata": {},
   "source": [
    "### Plots of each category w.r.t. time"
   ]
  },
  {
   "cell_type": "code",
   "execution_count": 28,
   "metadata": {},
   "outputs": [
    {
     "data": {
      "text/plain": [
       "<matplotlib.axes._subplots.AxesSubplot at 0x1f8e744fb70>"
      ]
     },
     "execution_count": 28,
     "metadata": {},
     "output_type": "execute_result"
    },
    {
     "data": {
      "image/png": "[encoded data removed]",
      "text/plain": [
       "<matplotlib.figure.Figure at 0x1f8e71fe860>"
      ]
     },
     "metadata": {},
     "output_type": "display_data"
    }
   ],
   "source": [
    "fig,axs = plt.subplots(5,2,figsize=(15,15))\n",
    "df_class0['time'].hist(ax=axs[0,0],bins=32)\n",
    "df_class1['time'].hist(ax=axs[0,1],bins=32)\n",
    "df_class2['time'].hist(ax=axs[1,0],bins=32)\n",
    "df_class3['time'].hist(ax=axs[1,1],bins=32)\n",
    "df_class4['time'].hist(ax=axs[2,0],bins=32)\n",
    "df_class5['time'].hist(ax=axs[2,1],bins=32)\n",
    "df_class6['time'].hist(ax=axs[3,0],bins=32)\n",
    "df_class7['time'].hist(ax=axs[3,1],bins=32)\n",
    "df_class8['time'].hist(ax=axs[4,0],bins=32)\n",
    "df_class9['time'].hist(ax=axs[4,1],bins=32)"
   ]
  },
  {
   "cell_type": "markdown",
   "metadata": {},
   "source": [
    "### Plots of each category w.r.t. scrollY"
   ]
  },
  {
   "cell_type": "code",
   "execution_count": 29,
   "metadata": {},
   "outputs": [
    {
     "data": {
      "text/plain": [
       "<matplotlib.axes._subplots.AxesSubplot at 0x1f8e7a66c18>"
      ]
     },
     "execution_count": 29,
     "metadata": {},
     "output_type": "execute_result"
    },
    {
     "data": {
      "image/png": "[encoded data removed]",
      "text/plain": [
       "<matplotlib.figure.Figure at 0x1f8e760a5f8>"
      ]
     },
     "metadata": {},
     "output_type": "display_data"
    }
   ],
   "source": [
    "fig,axs = plt.subplots(5,2,figsize=(15,15))\n",
    "df_class0['scrollY'].hist(ax=axs[0,0],bins=32)\n",
    "df_class1['scrollY'].hist(ax=axs[0,1],bins=32)\n",
    "df_class2['scrollY'].hist(ax=axs[1,0],bins=32)\n",
    "df_class3['scrollY'].hist(ax=axs[1,1],bins=32)\n",
    "df_class4['scrollY'].hist(ax=axs[2,0],bins=32)\n",
    "df_class5['scrollY'].hist(ax=axs[2,1],bins=32)\n",
    "df_class6['scrollY'].hist(ax=axs[3,0],bins=32)\n",
    "df_class7['scrollY'].hist(ax=axs[3,1],bins=32)\n",
    "df_class8['scrollY'].hist(ax=axs[4,0],bins=32)\n",
    "df_class9['scrollY'].hist(ax=axs[4,1],bins=32)"
   ]
  },
  {
   "cell_type": "code",
   "execution_count": 30,
   "metadata": {},
   "outputs": [
    {
     "name": "stdout",
     "output_type": "stream",
     "text": [
      "Shape of Class 0 :  (156, 2)\n",
      "Shape of Class 1 :  (1036, 2)\n",
      "Shape of Class 2 :  (157, 2)\n",
      "Shape of Class 3 :  (1262, 2)\n",
      "Shape of Class 4 :  (20, 2)\n",
      "Shape of Class 5 :  (20, 2)\n",
      "Shape of Class 6 :  (12, 2)\n",
      "Shape of Class 7 :  (8, 2)\n",
      "Shape of Class 8 :  (6, 2)\n",
      "Shape of Class 9 :  (2, 2)\n",
      "Shape of Class 10 :  (2, 2)\n"
     ]
    }
   ],
   "source": [
    "print(\"Shape of Class 0 : \",df_class0.shape)\n",
    "print(\"Shape of Class 1 : \",df_class1.shape)\n",
    "print(\"Shape of Class 2 : \",df_class2.shape)\n",
    "print(\"Shape of Class 3 : \",df_class3.shape)\n",
    "print(\"Shape of Class 4 : \",df_class4.shape)\n",
    "print(\"Shape of Class 5 : \",df_class5.shape)\n",
    "print(\"Shape of Class 6 : \",df_class6.shape)\n",
    "print(\"Shape of Class 7 : \",df_class7.shape)\n",
    "print(\"Shape of Class 8 : \",df_class8.shape)\n",
    "print(\"Shape of Class 9 : \",df_class9.shape)\n",
    "print(\"Shape of Class 10 : \",df_class10.shape)"
   ]
  },
  {
   "cell_type": "code",
   "execution_count": 31,
   "metadata": {},
   "outputs": [],
   "source": [
    "envelope =  EllipticEnvelope(contamination = outliers_fraction) \n",
    "X_train = df_class0['time'].values.reshape(-1,1)\n",
    "envelope.fit(X_train)\n",
    "df_class0_temp = pd.DataFrame(df_class0['time'])\n",
    "df_class0_temp['deviation'] = envelope.decision_function(X_train)\n",
    "df_class0_temp['anomaly'] = envelope.predict(X_train)\n",
    "\n",
    "envelope =  EllipticEnvelope(contamination = outliers_fraction) \n",
    "X_train = df_class1['time'].values.reshape(-1,1)\n",
    "envelope.fit(X_train)\n",
    "df_class1_temp = pd.DataFrame(df_class1['time'])\n",
    "df_class1_temp['deviation'] = envelope.decision_function(X_train)\n",
    "df_class1_temp['anomaly'] = envelope.predict(X_train)\n",
    "\n",
    "envelope =  EllipticEnvelope(contamination = outliers_fraction) \n",
    "X_train = df_class2['time'].values.reshape(-1,1)\n",
    "envelope.fit(X_train)\n",
    "df_class2_temp = pd.DataFrame(df_class2['time'])\n",
    "df_class2_temp['deviation'] = envelope.decision_function(X_train)\n",
    "df_class2_temp['anomaly'] = envelope.predict(X_train)\n",
    "\n",
    "envelope =  EllipticEnvelope(contamination = outliers_fraction) \n",
    "X_train = df_class3['time'].values.reshape(-1,1)\n",
    "envelope.fit(X_train)\n",
    "df_class3_temp = pd.DataFrame(df_class3['time'])\n",
    "df_class3_temp['deviation'] = envelope.decision_function(X_train)\n",
    "df_class3_temp['anomaly'] = envelope.predict(X_train)\n",
    "\n",
    "envelope =  EllipticEnvelope(contamination = outliers_fraction) \n",
    "X_train = df_class4['time'].values.reshape(-1,1)\n",
    "envelope.fit(X_train)\n",
    "df_class4_temp = pd.DataFrame(df_class4['time'])\n",
    "df_class4_temp['deviation'] = envelope.decision_function(X_train)\n",
    "df_class4_temp['anomaly'] = envelope.predict(X_train)\n",
    "\n",
    "envelope =  EllipticEnvelope(contamination = outliers_fraction) \n",
    "X_train = df_class5['time'].values.reshape(-1,1)\n",
    "envelope.fit(X_train)\n",
    "df_class5_temp = pd.DataFrame(df_class5['time'])\n",
    "df_class5_temp['deviation'] = envelope.decision_function(X_train)\n",
    "df_class5_temp['anomaly'] = envelope.predict(X_train)\n",
    "\n",
    "envelope =  EllipticEnvelope(contamination = outliers_fraction) \n",
    "X_train = df_class6['time'].values.reshape(-1,1)\n",
    "envelope.fit(X_train)\n",
    "df_class6_temp = pd.DataFrame(df_class6['time'])\n",
    "df_class6_temp['deviation'] = envelope.decision_function(X_train)\n",
    "df_class6_temp['anomaly'] = envelope.predict(X_train)\n",
    "\n",
    "envelope =  EllipticEnvelope(contamination = outliers_fraction) \n",
    "X_train = df_class7['time'].values.reshape(-1,1)\n",
    "envelope.fit(X_train)\n",
    "df_class7_temp = pd.DataFrame(df_class7['time'])\n",
    "df_class7_temp['deviation'] = envelope.decision_function(X_train)\n",
    "df_class7_temp['anomaly'] = envelope.predict(X_train)\n",
    "\n",
    "envelope =  EllipticEnvelope(contamination = outliers_fraction) \n",
    "X_train = df_class8['time'].values.reshape(-1,1)\n",
    "envelope.fit(X_train)\n",
    "df_class8_temp = pd.DataFrame(df_class8['time'])\n",
    "df_class8_temp['deviation'] = envelope.decision_function(X_train)\n",
    "df_class8_temp['anomaly'] = envelope.predict(X_train)\n",
    "\n",
    "envelope =  EllipticEnvelope(contamination = outliers_fraction) \n",
    "X_train = df_class9['time'].values.reshape(-1,1)\n",
    "envelope.fit(X_train)\n",
    "df_class9_temp = pd.DataFrame(df_class9['time'])\n",
    "df_class9_temp['deviation'] = envelope.decision_function(X_train)\n",
    "df_class9_temp['anomaly'] = envelope.predict(X_train)\n",
    "\n",
    "envelope =  EllipticEnvelope(contamination = outliers_fraction) \n",
    "X_train = df_class10['time'].values.reshape(-1,1)\n",
    "envelope.fit(X_train)\n",
    "df_class10_temp = pd.DataFrame(df_class10['time'])\n",
    "df_class10_temp['deviation'] = envelope.decision_function(X_train)\n",
    "df_class10_temp['anomaly'] = envelope.predict(X_train)"
   ]
  },
  {
   "cell_type": "code",
   "execution_count": 32,
   "metadata": {},
   "outputs": [
    {
     "data": {
      "text/html": [
       "<div>\n",
       "<style scoped>\n",
       "    .dataframe tbody tr th:only-of-type {\n",
       "        vertical-align: middle;\n",
       "    }\n",
       "\n",
       "    .dataframe tbody tr th {\n",
       "        vertical-align: top;\n",
       "    }\n",
       "\n",
       "    .dataframe thead th {\n",
       "        text-align: right;\n",
       "    }\n",
       "</style>\n",
       "<table border=\"1\" class=\"dataframe\">\n",
       "  <thead>\n",
       "    <tr style=\"text-align: right;\">\n",
       "      <th></th>\n",
       "      <th>time</th>\n",
       "      <th>deviation</th>\n",
       "      <th>anomaly</th>\n",
       "    </tr>\n",
       "  </thead>\n",
       "  <tbody>\n",
       "    <tr>\n",
       "      <th>0</th>\n",
       "      <td>824.55</td>\n",
       "      <td>3.248031</td>\n",
       "      <td>1</td>\n",
       "    </tr>\n",
       "    <tr>\n",
       "      <th>12</th>\n",
       "      <td>949.55</td>\n",
       "      <td>3.255992</td>\n",
       "      <td>1</td>\n",
       "    </tr>\n",
       "    <tr>\n",
       "      <th>15</th>\n",
       "      <td>961.55</td>\n",
       "      <td>3.256757</td>\n",
       "      <td>1</td>\n",
       "    </tr>\n",
       "    <tr>\n",
       "      <th>22</th>\n",
       "      <td>1632.55</td>\n",
       "      <td>3.299939</td>\n",
       "      <td>1</td>\n",
       "    </tr>\n",
       "    <tr>\n",
       "      <th>27</th>\n",
       "      <td>1669.55</td>\n",
       "      <td>3.302342</td>\n",
       "      <td>1</td>\n",
       "    </tr>\n",
       "  </tbody>\n",
       "</table>\n",
       "</div>"
      ],
      "text/plain": [
       "       time  deviation  anomaly\n",
       "0    824.55   3.248031        1\n",
       "12   949.55   3.255992        1\n",
       "15   961.55   3.256757        1\n",
       "22  1632.55   3.299939        1\n",
       "27  1669.55   3.302342        1"
      ]
     },
     "execution_count": 32,
     "metadata": {},
     "output_type": "execute_result"
    }
   ],
   "source": [
    "df_class0_temp['anomaly'].value_counts()\n",
    "df_class0_temp.head()"
   ]
  },
  {
   "cell_type": "code",
   "execution_count": 33,
   "metadata": {},
   "outputs": [
    {
     "data": {
      "text/plain": [
       "<matplotlib.text.Text at 0x1f8e866d588>"
      ]
     },
     "execution_count": 33,
     "metadata": {},
     "output_type": "execute_result"
    },
    {
     "data": {
      "image/png": "[encoded data removed]",
      "text/plain": [
       "<matplotlib.figure.Figure at 0x1f8e7a97c88>"
      ]
     },
     "metadata": {},
     "output_type": "display_data"
    }
   ],
   "source": [
    "a0 = df_class0_temp.loc[df_class0_temp['anomaly'] == 1, 'time']\n",
    "b0 = df_class0_temp.loc[df_class0_temp['anomaly'] == -1, 'time']\n",
    "\n",
    "a1 = df_class1_temp.loc[df_class1_temp['anomaly'] == 1, 'time']\n",
    "b1 = df_class1_temp.loc[df_class1_temp['anomaly'] == -1, 'time']\n",
    "\n",
    "a2 = df_class2_temp.loc[df_class2_temp['anomaly'] == 1, 'time']\n",
    "b2 = df_class2_temp.loc[df_class2_temp['anomaly'] == -1, 'time']\n",
    "\n",
    "a3 = df_class3_temp.loc[df_class3_temp['anomaly'] == 1, 'time']\n",
    "b3 = df_class3_temp.loc[df_class3_temp['anomaly'] == -1, 'time']\n",
    "\n",
    "a4 = df_class4_temp.loc[df_class4_temp['anomaly'] == 1, 'time']\n",
    "b4 = df_class4_temp.loc[df_class4_temp['anomaly'] == -1, 'time']\n",
    "\n",
    "a5 = df_class5_temp.loc[df_class5_temp['anomaly'] == 1, 'time']\n",
    "b5 = df_class5_temp.loc[df_class5_temp['anomaly'] == -1, 'time']\n",
    "\n",
    "a6 = df_class6_temp.loc[df_class6_temp['anomaly'] == 1, 'time']\n",
    "b6 = df_class6_temp.loc[df_class6_temp['anomaly'] == -1, 'time']\n",
    "\n",
    "a7 = df_class7_temp.loc[df_class7_temp['anomaly'] == 1, 'time']\n",
    "b7 = df_class7_temp.loc[df_class7_temp['anomaly'] == -1, 'time']\n",
    "\n",
    "a8 = df_class8_temp.loc[df_class8_temp['anomaly'] == 1, 'time']\n",
    "b8 = df_class8_temp.loc[df_class8_temp['anomaly'] == -1, 'time']\n",
    "\n",
    "a9 = df_class9_temp.loc[df_class9_temp['anomaly'] == 1, 'time']\n",
    "b9 = df_class9_temp.loc[df_class9_temp['anomaly'] == -1, 'time']\n",
    "\n",
    "fig,axs = plt.subplots(5,2,figsize=(19,15))\n",
    "axs[0,0].hist([a0,b0], bins=32, stacked=True, color=['blue', 'red'], label=['normal', 'anomaly'])\n",
    "axs[0,1].hist([a1,b1], bins=32, stacked=True, color=['blue', 'red'], label=['normal', 'anomaly'])\n",
    "axs[1,0].hist([a2,b2], bins=32, stacked=True, color=['blue', 'red'], label=['normal', 'anomaly'])\n",
    "axs[1,1].hist([a3,b3], bins=32, stacked=True, color=['blue', 'red'], label=['normal', 'anomaly'])\n",
    "axs[2,0].hist([a4,b4], bins=32, stacked=True, color=['blue', 'red'], label=['normal', 'anomaly'])\n",
    "axs[2,1].hist([a5,b5], bins=32, stacked=True, color=['blue', 'red'], label=['normal', 'anomaly'])\n",
    "axs[3,0].hist([a6,b6], bins=32, stacked=True, color=['blue', 'red'], label=['normal', 'anomaly'])\n",
    "axs[3,1].hist([a7,b7], bins=32, stacked=True, color=['blue', 'red'], label=['normal', 'anomaly'])\n",
    "axs[4,0].hist([a8,b8], bins=32, stacked=True, color=['blue', 'red'], label=['normal', 'anomaly'])\n",
    "axs[4,1].hist([a9,b9], bins=32, stacked=True, color=['blue', 'red'], label=['normal', 'anomaly'])\n",
    "\n",
    "axs[0,0].set_title(\"mouseover\")\n",
    "axs[0,1].set_title('mousemove')\n",
    "axs[1,0].set_title(\"mouseout\")\n",
    "axs[1,1].set_title('scroll')\n",
    "axs[2,0].set_title(\"mousedown\")\n",
    "axs[2,1].set_title('mouseup')\n",
    "axs[3,0].set_title(\"click\")\n",
    "axs[3,1].set_title('focusin')\n",
    "axs[4,0].set_title(\"focusout\")\n",
    "axs[4,1].set_title('dblclick')"
   ]
  },
  {
   "cell_type": "code",
   "execution_count": 34,
   "metadata": {},
   "outputs": [],
   "source": [
    "df_class = pd.concat([df_class0_temp,df_class1_temp,df_class2_temp,df_class3_temp,df_class4_temp,df_class5_temp,df_class6_temp,df_class7_temp,df_class8_temp,df_class9_temp,df_class10_temp])\n",
    "df_ee['anomaly'] = df_class['anomaly']\n",
    "df_ee['anomaly'] = np.array(df_ee['anomaly'] == -1).astype(int) "
   ]
  },
  {
   "cell_type": "code",
   "execution_count": 36,
   "metadata": {},
   "outputs": [
    {
     "data": {
      "image/png": "[encoded data removed]",
      "text/plain": [
       "<matplotlib.figure.Figure at 0x1f8e8857278>"
      ]
     },
     "metadata": {},
     "output_type": "display_data"
    }
   ],
   "source": [
    "fig, ax = plt.subplots()\n",
    "\n",
    "a = df_ee.loc[df_ee['anomaly'] == 1, ('time', 'scrollY')] #anomaly\n",
    "\n",
    "ax.plot(df_ee['time'], df_ee['scrollY'], color='blue')\n",
    "ax.scatter(a['time'],a['scrollY'], color='red')\n",
    "plt.show()"
   ]
  },
  {
   "cell_type": "code",
   "execution_count": 38,
   "metadata": {},
   "outputs": [
    {
     "data": {
      "image/png": "[encoded data removed]",
      "text/plain": [
       "<matplotlib.figure.Figure at 0x1f8e94688d0>"
      ]
     },
     "metadata": {},
     "output_type": "display_data"
    }
   ],
   "source": [
    "a = df_ee.loc[df_ee['anomaly'] == 0, 'time']\n",
    "b = df_ee.loc[df_ee['anomaly'] == 1, 'time']\n",
    "\n",
    "fig, axs = plt.subplots()\n",
    "axs.hist([a,b], bins=32, stacked=True, color=['blue', 'red'], label=['normal', 'anomaly'])\n",
    "plt.legend()\n",
    "plt.show()"
   ]
  },
  {
   "cell_type": "markdown",
   "metadata": {},
   "source": [
    "## Isolation Forest :\n",
    "This algorithm is one more algorithm to identify anomalies. Works well with different data repartition and efficient with high dimention data. Used to detect unordered collective anomalies."
   ]
  },
  {
   "cell_type": "code",
   "execution_count": 39,
   "metadata": {},
   "outputs": [
    {
     "name": "stdout",
     "output_type": "stream",
     "text": [
      "106672.515 740.435\n",
      "3740.0 0.0\n"
     ]
    }
   ],
   "source": [
    "df_isolation = get_data()\n",
    "df_isolation = add_dummies(df_isolation,types)\n",
    "df_isolation = assign_dummies(df_isolation,types_dict)\n",
    "df_isolation = remove_columns(df_isolation,['height','width','scrollX','type'])\n",
    "X,df_isolation = scale_data(df_isolation)"
   ]
  },
  {
   "cell_type": "code",
   "execution_count": 40,
   "metadata": {},
   "outputs": [
    {
     "data": {
      "text/plain": [
       "IsolationForest(bootstrap=False, contamination=0.01, max_features=1.0,\n",
       "        max_samples='auto', n_estimators=100, n_jobs=1, random_state=None,\n",
       "        verbose=0)"
      ]
     },
     "execution_count": 40,
     "metadata": {},
     "output_type": "execute_result"
    }
   ],
   "source": [
    "model =  IsolationForest(contamination = outliers_fraction)\n",
    "model.fit(df_isolation)"
   ]
  },
  {
   "cell_type": "code",
   "execution_count": 41,
   "metadata": {},
   "outputs": [
    {
     "name": "stdout",
     "output_type": "stream",
     "text": [
      "0    2654\n",
      "1      27\n",
      "Name: anomaly, dtype: int64\n"
     ]
    }
   ],
   "source": [
    "df_isolation['anomaly'] = pd.Series(model.predict(df_isolation))\n",
    "df_isolation['anomaly'] = df_isolation['anomaly'].map({1:0,-1:1})\n",
    "print(df_isolation['anomaly'].value_counts())"
   ]
  },
  {
   "cell_type": "code",
   "execution_count": 42,
   "metadata": {},
   "outputs": [
    {
     "data": {
      "image/png": "[encoded data removed]",
      "text/plain": [
       "<matplotlib.figure.Figure at 0x1f8e96740b8>"
      ]
     },
     "metadata": {},
     "output_type": "display_data"
    }
   ],
   "source": [
    "fig, ax = plt.subplots()\n",
    "\n",
    "a = df_isolation.loc[df_isolation['anomaly'] == 1, ['time', 'scrollY']] #anomaly\n",
    "\n",
    "ax.plot(df_isolation['time'], df_isolation['scrollY'], color='blue')\n",
    "ax.scatter(a['time'],a['scrollY'], color='red')\n",
    "plt.show()"
   ]
  },
  {
   "cell_type": "code",
   "execution_count": 43,
   "metadata": {},
   "outputs": [
    {
     "data": {
      "image/png": "[encoded data removed]",
      "text/plain": [
       "<matplotlib.figure.Figure at 0x1f8e70827b8>"
      ]
     },
     "metadata": {},
     "output_type": "display_data"
    }
   ],
   "source": [
    "a = df_isolation.loc[df_isolation['anomaly'] == 0, 'time']\n",
    "b = df_isolation.loc[df_isolation['anomaly'] == 1, 'time']\n",
    "\n",
    "fig, axs = plt.subplots()\n",
    "axs.hist([a,b], bins=32, stacked=True, color=['blue', 'red'], label = ['normal', 'anomaly'])\n",
    "plt.legend()\n",
    "plt.show()"
   ]
  },
  {
   "cell_type": "markdown",
   "metadata": {},
   "source": [
    "## One Class Support Vector Machine :\n",
    "This considers data as single class but assigns non satisfying data as anomalies. Good for novelty detection (no anomalies in the train set). This algorithm performs well for multimodal data."
   ]
  },
  {
   "cell_type": "code",
   "execution_count": 44,
   "metadata": {},
   "outputs": [
    {
     "name": "stdout",
     "output_type": "stream",
     "text": [
      "106672.515 740.435\n",
      "3740.0 0.0\n"
     ]
    }
   ],
   "source": [
    "df_svm = get_data()\n",
    "df_svm = add_dummies(df_svm,types)\n",
    "df_svm = assign_dummies(df_svm,types_dict)\n",
    "df_svm = remove_columns(df_svm,['height','width','scrollX','type'])\n",
    "X,df_svm = scale_data(df_svm)"
   ]
  },
  {
   "cell_type": "code",
   "execution_count": 45,
   "metadata": {},
   "outputs": [
    {
     "data": {
      "text/plain": [
       "OneClassSVM(cache_size=200, coef0=0.0, degree=3, gamma='auto', kernel='rbf',\n",
       "      max_iter=-1, nu=0.0095, random_state=None, shrinking=True, tol=0.001,\n",
       "      verbose=False)"
      ]
     },
     "execution_count": 45,
     "metadata": {},
     "output_type": "execute_result"
    }
   ],
   "source": [
    "model =  OneClassSVM(nu=0.95 * outliers_fraction) #nu=0.95 * outliers_fraction  + 0.05\n",
    "model.fit(df_svm)"
   ]
  },
  {
   "cell_type": "code",
   "execution_count": 46,
   "metadata": {},
   "outputs": [
    {
     "name": "stdout",
     "output_type": "stream",
     "text": [
      "0    2655\n",
      "1      26\n",
      "Name: anomaly, dtype: int64\n"
     ]
    }
   ],
   "source": [
    "df_svm['anomaly'] = pd.Series(model.predict(df_svm))\n",
    "df_svm['anomaly'] = df_svm['anomaly'].map({1:0,-1:1})\n",
    "print(df_svm['anomaly'].value_counts())"
   ]
  },
  {
   "cell_type": "code",
   "execution_count": 47,
   "metadata": {},
   "outputs": [
    {
     "data": {
      "image/png": "[encoded data removed]",
      "text/plain": [
       "<matplotlib.figure.Figure at 0x1f8e95b66a0>"
      ]
     },
     "metadata": {},
     "output_type": "display_data"
    }
   ],
   "source": [
    "fig, ax = plt.subplots()\n",
    "\n",
    "a = df_svm.loc[df_svm['anomaly'] == 1, ['time', 'scrollY']] #anomaly\n",
    "\n",
    "ax.plot(df_svm['time'], df_svm['scrollY'], color='blue')\n",
    "ax.scatter(a['time'],a['scrollY'], color='red')\n",
    "plt.show()"
   ]
  },
  {
   "cell_type": "code",
   "execution_count": 48,
   "metadata": {},
   "outputs": [
    {
     "data": {
      "image/png": "[encoded data removed]",
      "text/plain": [
       "<matplotlib.figure.Figure at 0x1f8e965be80>"
      ]
     },
     "metadata": {},
     "output_type": "display_data"
    }
   ],
   "source": [
    "a = df_svm.loc[df_svm['anomaly'] == 0, 'time']\n",
    "b = df_svm.loc[df_svm['anomaly'] == 1, 'time']\n",
    "\n",
    "fig, axs = plt.subplots()\n",
    "axs.hist([a,b], bins=32, stacked=True, color=['blue', 'red'], label = ['normal', 'anomaly'])\n",
    "plt.legend()\n",
    "plt.show()"
   ]
  },
  {
   "cell_type": "markdown",
   "metadata": {},
   "source": [
    "## RNN (LSTM Neural Networks) :\n",
    "RNN learn to recognize sequence in the data and then make prediction based on the previous sequence. We consider an anomaly when the next data points are distant from RNN prediction. Aggregation, size of sequence and size of prediction for anomaly are important parameters to have relevant detection.\n",
    "Here we make learn from 50 previous values, and we predict just the 1 next value. RNNs are used to detect ordered anomalies."
   ]
  },
  {
   "cell_type": "code",
   "execution_count": 49,
   "metadata": {},
   "outputs": [
    {
     "name": "stdout",
     "output_type": "stream",
     "text": [
      "106672.515 740.435\n",
      "3740.0 0.0\n"
     ]
    }
   ],
   "source": [
    "df_rnn = get_data()\n",
    "df_rnn = add_dummies(df_rnn,types)\n",
    "df_rnn = assign_dummies(df_rnn,types_dict)\n",
    "df_rnn = remove_columns(df_rnn,['height','width','scrollX','type'])\n",
    "X,df_rnn = scale_data(df_rnn)"
   ]
  },
  {
   "cell_type": "code",
   "execution_count": 52,
   "metadata": {},
   "outputs": [],
   "source": [
    "prediction_time = 1\n",
    "testdatasize = 400\n",
    "unroll_length = 50\n",
    "testdatacut = testdatasize + unroll_length + 1\n",
    "\n",
    "#Train Data\n",
    "x_train = df_rnn[0:-prediction_time-testdatacut].values\n",
    "y_train = df_rnn['time'][prediction_time:-testdatacut ].values\n",
    "# test data\n",
    "x_test = df_rnn[0-testdatacut:-prediction_time].values\n",
    "y_test = df_rnn['time'][prediction_time-testdatacut:  ].values"
   ]
  },
  {
   "cell_type": "code",
   "execution_count": 53,
   "metadata": {},
   "outputs": [
    {
     "name": "stdout",
     "output_type": "stream",
     "text": [
      "x_train (2179, 50, 13)\n",
      "y_train (2179,)\n",
      "x_test (400, 50, 13)\n",
      "y_test (400,)\n"
     ]
    }
   ],
   "source": [
    "def unroll(data,sequence_length=24):\n",
    "    result = []\n",
    "    for index in range(len(data) - sequence_length):\n",
    "        result.append(data[index: index + sequence_length])\n",
    "    return np.asarray(result)\n",
    "\n",
    "# adapt the datasets for the sequence data shape\n",
    "x_train = unroll(x_train,unroll_length)\n",
    "x_test  = unroll(x_test,unroll_length)\n",
    "y_train = y_train[-x_train.shape[0]:]\n",
    "y_test  = y_test[-x_test.shape[0]:]\n",
    "\n",
    "# see the shape\n",
    "print(\"x_train\", x_train.shape)\n",
    "print(\"y_train\", y_train.shape)\n",
    "print(\"x_test\", x_test.shape)\n",
    "print(\"y_test\", y_test.shape)"
   ]
  },
  {
   "cell_type": "code",
   "execution_count": 54,
   "metadata": {},
   "outputs": [
    {
     "name": "stderr",
     "output_type": "stream",
     "text": [
      "Using TensorFlow backend.\n"
     ]
    }
   ],
   "source": [
    "from keras.layers.core import Dense, Activation, Dropout\n",
    "from keras.layers.recurrent import LSTM\n",
    "from keras.models import Sequential\n",
    "import time #helper libraries\n",
    "from keras.models import model_from_json\n",
    "import sys"
   ]
  },
  {
   "cell_type": "code",
   "execution_count": 55,
   "metadata": {},
   "outputs": [
    {
     "name": "stderr",
     "output_type": "stream",
     "text": [
      "C:\\Users\\Ashutosh\\Anaconda3\\lib\\site-packages\\ipykernel_launcher.py:6: UserWarning: The `input_dim` and `input_length` arguments in recurrent layers are deprecated. Use `input_shape` instead.\n",
      "  \n",
      "C:\\Users\\Ashutosh\\Anaconda3\\lib\\site-packages\\ipykernel_launcher.py:6: UserWarning: Update your `LSTM` call to the Keras 2 API: `LSTM(units=50, input_shape=(None, 13), return_sequences=True)`\n",
      "  \n"
     ]
    },
    {
     "name": "stdout",
     "output_type": "stream",
     "text": [
      "WARNING:tensorflow:From C:\\Users\\Ashutosh\\Anaconda3\\lib\\site-packages\\keras\\backend\\tensorflow_backend.py:1188: calling reduce_sum (from tensorflow.python.ops.math_ops) with keep_dims is deprecated and will be removed in a future version.\n",
      "Instructions for updating:\n",
      "keep_dims is deprecated, use keepdims instead\n",
      "WARNING:tensorflow:From C:\\Users\\Ashutosh\\Anaconda3\\lib\\site-packages\\keras\\backend\\tensorflow_backend.py:1290: calling reduce_mean (from tensorflow.python.ops.math_ops) with keep_dims is deprecated and will be removed in a future version.\n",
      "Instructions for updating:\n",
      "keep_dims is deprecated, use keepdims instead\n",
      "compilation time : 0.17553234100341797\n"
     ]
    }
   ],
   "source": [
    "model = Sequential()\n",
    "\n",
    "model.add(LSTM(\n",
    "    input_dim=x_train.shape[-1],\n",
    "    output_dim=50,\n",
    "    return_sequences=True))\n",
    "model.add(Dropout(0.2))\n",
    "\n",
    "model.add(LSTM(\n",
    "    100,\n",
    "    return_sequences=False))\n",
    "model.add(Dropout(0.2))\n",
    "\n",
    "model.add(Dense(\n",
    "    units=1))\n",
    "model.add(Activation('linear'))\n",
    "\n",
    "start = time.time()\n",
    "model.compile(loss='mse', optimizer='rmsprop')\n",
    "print('compilation time : {}'.format(time.time() - start))"
   ]
  },
  {
   "cell_type": "code",
   "execution_count": 56,
   "metadata": {},
   "outputs": [
    {
     "name": "stderr",
     "output_type": "stream",
     "text": [
      "C:\\Users\\Ashutosh\\Anaconda3\\lib\\site-packages\\keras\\models.py:848: UserWarning: The `nb_epoch` argument in `fit` has been renamed `epochs`.\n",
      "  warnings.warn('The `nb_epoch` argument in `fit` '\n"
     ]
    },
    {
     "name": "stdout",
     "output_type": "stream",
     "text": [
      "Train on 1852 samples, validate on 327 samples\n",
      "Epoch 1/30\n",
      "1852/1852 [==============================] - 10s - loss: 0.0345 - val_loss: 0.0120\n",
      "Epoch 2/30\n",
      "1852/1852 [==============================] - 5s - loss: 0.0075 - val_loss: 0.0923\n",
      "Epoch 3/30\n",
      "1852/1852 [==============================] - 5s - loss: 0.0081 - val_loss: 0.0134\n",
      "Epoch 4/30\n",
      "1852/1852 [==============================] - 5s - loss: 0.0048 - val_loss: 0.0319\n",
      "Epoch 5/30\n",
      "1852/1852 [==============================] - 5s - loss: 0.0054 - val_loss: 0.0357\n",
      "Epoch 6/30\n",
      "1852/1852 [==============================] - 5s - loss: 0.0046 - val_loss: 0.0087\n",
      "Epoch 7/30\n",
      "1852/1852 [==============================] - 5s - loss: 0.0046 - val_loss: 0.0240\n",
      "Epoch 8/30\n",
      "1852/1852 [==============================] - 5s - loss: 0.0035 - val_loss: 0.0084\n",
      "Epoch 9/30\n",
      "1852/1852 [==============================] - 5s - loss: 0.0035 - val_loss: 0.0404\n",
      "Epoch 10/30\n",
      "1852/1852 [==============================] - 6s - loss: 0.0035 - val_loss: 0.0111\n",
      "Epoch 11/30\n",
      "1852/1852 [==============================] - 5s - loss: 0.0033 - val_loss: 0.0095\n",
      "Epoch 12/30\n",
      "1852/1852 [==============================] - 5s - loss: 0.0030 - val_loss: 0.0076\n",
      "Epoch 13/30\n",
      "1852/1852 [==============================] - 5s - loss: 0.0030 - val_loss: 0.0062\n",
      "Epoch 14/30\n",
      "1852/1852 [==============================] - 6s - loss: 0.0025 - val_loss: 0.0259\n",
      "Epoch 15/30\n",
      "1852/1852 [==============================] - 6s - loss: 0.0029 - val_loss: 0.0070\n",
      "Epoch 16/30\n",
      "1852/1852 [==============================] - 5s - loss: 0.0025 - val_loss: 0.0131\n",
      "Epoch 17/30\n",
      "1852/1852 [==============================] - 5s - loss: 0.0022 - val_loss: 0.0060\n",
      "Epoch 18/30\n",
      "1852/1852 [==============================] - 5s - loss: 0.0030 - val_loss: 0.0064\n",
      "Epoch 19/30\n",
      "1852/1852 [==============================] - 5s - loss: 0.0025 - val_loss: 0.0345\n",
      "Epoch 20/30\n",
      "1852/1852 [==============================] - 5s - loss: 0.0025 - val_loss: 0.0169\n",
      "Epoch 21/30\n",
      "1852/1852 [==============================] - 5s - loss: 0.0019 - val_loss: 0.0067\n",
      "Epoch 22/30\n",
      "1852/1852 [==============================] - 5s - loss: 0.0025 - val_loss: 0.0109\n",
      "Epoch 23/30\n",
      "1852/1852 [==============================] - 5s - loss: 0.0020 - val_loss: 0.0052\n",
      "Epoch 24/30\n",
      "1852/1852 [==============================] - 5s - loss: 0.0021 - val_loss: 0.0218\n",
      "Epoch 25/30\n",
      "1852/1852 [==============================] - 5s - loss: 0.0022 - val_loss: 0.0084\n",
      "Epoch 26/30\n",
      "1852/1852 [==============================] - 5s - loss: 0.0018 - val_loss: 0.0072\n",
      "Epoch 27/30\n",
      "1852/1852 [==============================] - 5s - loss: 0.0021 - val_loss: 0.0119\n",
      "Epoch 28/30\n",
      "1852/1852 [==============================] - 5s - loss: 0.0019 - val_loss: 0.0156\n",
      "Epoch 29/30\n",
      "1852/1852 [==============================] - 6s - loss: 0.0020 - val_loss: 0.0073\n",
      "Epoch 30/30\n",
      "1852/1852 [==============================] - 5s - loss: 0.0019 - val_loss: 0.0139\n"
     ]
    },
    {
     "data": {
      "text/plain": [
       "<keras.callbacks.History at 0x1f8f0c09b00>"
      ]
     },
     "execution_count": 56,
     "metadata": {},
     "output_type": "execute_result"
    }
   ],
   "source": [
    "model.fit(\n",
    "    x_train,\n",
    "    y_train,\n",
    "    batch_size=128,\n",
    "    nb_epoch=30,\n",
    "    validation_split=0.15)"
   ]
  },
  {
   "cell_type": "code",
   "execution_count": 57,
   "metadata": {},
   "outputs": [],
   "source": [
    "loaded_model = model\n",
    "diff=[]\n",
    "ratio=[]\n",
    "p = loaded_model.predict(x_test)\n",
    "# predictions = lstm.predict_sequences_multiple(loaded_model, x_test, 50, 50)\n",
    "for u in range(len(y_test)):\n",
    "    pr = p[u][0]\n",
    "    ratio.append((y_test[u]/pr)-1)\n",
    "    diff.append(abs(y_test[u]- pr))"
   ]
  },
  {
   "cell_type": "code",
   "execution_count": 58,
   "metadata": {},
   "outputs": [
    {
     "name": "stdout",
     "output_type": "stream",
     "text": [
      "0    2677\n",
      "1       4\n",
      "Name: anomaly, dtype: int64\n"
     ]
    }
   ],
   "source": [
    "diff = pd.Series(diff)\n",
    "number_of_outliers = int(outliers_fraction*len(diff))\n",
    "threshold = diff.nlargest(number_of_outliers).min()\n",
    "# data with anomaly label (test data part)\n",
    "test = (diff >= threshold).astype(int)\n",
    "# the training data part where we didn't predict anything (overfitting possible): no anomaly\n",
    "complement = pd.Series(0, index=np.arange(len(df_rnn)-testdatasize))\n",
    "# # add the data to the main\n",
    "df_rnn['anomaly'] = complement.append(test, ignore_index='True')\n",
    "print(df_rnn['anomaly'].value_counts())"
   ]
  },
  {
   "cell_type": "code",
   "execution_count": 59,
   "metadata": {},
   "outputs": [
    {
     "data": {
      "image/png": "[encoded data removed]",
      "text/plain": [
       "<matplotlib.figure.Figure at 0x1f8f30c7cf8>"
      ]
     },
     "metadata": {},
     "output_type": "display_data"
    }
   ],
   "source": [
    "fig, ax = plt.subplots()\n",
    "\n",
    "a = df_rnn.loc[df_rnn['anomaly'] == 1, ['time', 'scrollY']] #anomaly\n",
    "\n",
    "ax.plot(df_rnn['time'], df_rnn['scrollY'], color='blue')\n",
    "ax.scatter(a['time'],a['scrollY'], color='red')\n",
    "plt.show()"
   ]
  },
  {
   "cell_type": "code",
   "execution_count": 60,
   "metadata": {},
   "outputs": [
    {
     "name": "stderr",
     "output_type": "stream",
     "text": [
      "C:\\Users\\Ashutosh\\Anaconda3\\lib\\site-packages\\matplotlib\\axes\\_axes.py:545: UserWarning: No labelled objects found. Use label='...' kwarg on individual plots.\n",
      "  warnings.warn(\"No labelled objects found. \"\n"
     ]
    },
    {
     "data": {
      "image/png": "[encoded data removed]",
      "text/plain": [
       "<matplotlib.figure.Figure at 0x1f8e9690668>"
      ]
     },
     "metadata": {},
     "output_type": "display_data"
    }
   ],
   "source": [
    "a = df_rnn.loc[df_rnn['anomaly'] == 0, 'time']\n",
    "b = df_rnn.loc[df_rnn['anomaly'] == 1, 'time']\n",
    "\n",
    "fig, axs = plt.subplots()\n",
    "axs.hist([a,b], bins=32, stacked=True, color=['blue', 'red'])\n",
    "plt.legend()\n",
    "plt.show()"
   ]
  },
  {
   "cell_type": "markdown",
   "metadata": {},
   "source": [
    "## Conclusion : \n",
    "In my observation, the anomalies involved in the data is most probably collective anomalies. And among three algorithms to find collective anomalies, One Class SVM is giving the better results in comparison to others. And from that, we can conclude that the data involved is Multi-dimensional Unordered data."
   ]
  }
 ],
 "metadata": {
  "kernelspec": {
   "display_name": "Python 3",
   "language": "python",
   "name": "python3"
  },
  "language_info": {
   "codemirror_mode": {
    "name": "ipython",
    "version": 3
   },
   "file_extension": ".py",
   "mimetype": "text/x-python",
   "name": "python",
   "nbconvert_exporter": "python",
   "pygments_lexer": "ipython3",
   "version": "3.5.5"
  },
  "widgets": {
   "state": {},
   "version": "1.1.2"
  }
 },
 "nbformat": 4,
 "nbformat_minor": 2
}
